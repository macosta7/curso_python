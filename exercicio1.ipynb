{
 "cells": [
  {
   "cell_type": "code",
   "execution_count": null,
   "id": "bcf80e37",
   "metadata": {},
   "outputs": [
    {
     "data": {
      "text/plain": [
       "{'mean': [[3.0, 4.0, 5.0], [1.0, 4.0, 7.0], 4.0],\n",
       " 'varience': [[6.0, 6.0, 6.0],\n",
       "  [0.6666666666666666, 0.6666666666666666, 0.6666666666666666],\n",
       "  6.666666666666667],\n",
       " 'standard deviation': [[2.449489742783178,\n",
       "   2.449489742783178,\n",
       "   2.449489742783178],\n",
       "  [0.816496580927726, 0.816496580927726, 0.816496580927726],\n",
       "  2.581988897471611],\n",
       " 'max': [[6, 7, 8], [2, 5, 8], 8],\n",
       " 'min': [[0, 1, 2], [0, 3, 6], 0],\n",
       " 'sum': [[9, 12, 15], [3, 12, 21], 36]}"
      ]
     },
     "execution_count": 3,
     "metadata": {},
     "output_type": "execute_result"
    }
   ],
   "source": [
    "import numpy as np\n",
    "\n",
    "list = [0,1,2,3,4,5,6,7,8]\n",
    "list\n",
    "\n",
    "def calculate(list):\n",
    "    if len(list) != 9:\n",
    "        raise ValueError(\"List must contain nine numbers.\")\n",
    "\n",
    "    matriz = np.array(list).reshape(3,3)\n",
    "\n",
    "    mean_axis0 = matriz.mean(axis=0).tolist()\n",
    "    mean_axis1 = matriz.mean(axis=1).tolist() \n",
    "    mean_flattened = matriz.mean().tolist()\n",
    "\n",
    "    var_axis0 = matriz.var(axis=0).tolist()\n",
    "    var_axis1 = matriz.var(axis=1).tolist()\n",
    "    var_flattened = matriz.var().tolist()\n",
    "\n",
    "    std_axis0 = matriz.std(axis=0).tolist()\n",
    "    std_axis1 = matriz.std(axis=1).tolist()\n",
    "    std_flattened = matriz.std().tolist()\n",
    "\n",
    "    max_axis0 = matriz.max(axis=0).tolist()\n",
    "    max_axis1 = matriz.max(axis=1).tolist()\n",
    "    max_flattened = matriz.max().tolist()\n",
    "\n",
    "    min_axis0 = matriz.min(axis=0).tolist()\n",
    "    min_axis1 = matriz.min(axis=1).tolist()\n",
    "    min_flattened = matriz.min().tolist()\n",
    "\n",
    "    sum_axis0 = matriz.sum(axis=0).tolist()\n",
    "    sum_axis1 = matriz.sum(axis=1).tolist()\n",
    "    sum_flattened = matriz.sum().tolist()\n",
    "\n",
    "    result = {\n",
    "        'mean': [mean_axis0, mean_axis1, mean_flattened],\n",
    "        'variance': [var_axis0, var_axis1, var_flattened],\n",
    "        'standard deviation': [std_axis0, std_axis1, std_flattened],\n",
    "        'max': [max_axis0, max_axis1, max_flattened],\n",
    "        'min': [min_axis0, min_axis1, min_flattened],\n",
    "        'sum': [sum_axis0, sum_axis1, sum_flattened]\n",
    "    }\n",
    "\n",
    "    return result\n",
    "\n",
    "# funcao\n",
    "calculate(list)"
   ]
  }
 ],
 "metadata": {
  "kernelspec": {
   "display_name": "Python 3",
   "language": "python",
   "name": "python3"
  },
  "language_info": {
   "codemirror_mode": {
    "name": "ipython",
    "version": 3
   },
   "file_extension": ".py",
   "mimetype": "text/x-python",
   "name": "python",
   "nbconvert_exporter": "python",
   "pygments_lexer": "ipython3",
   "version": "3.13.5"
  }
 },
 "nbformat": 4,
 "nbformat_minor": 5
}
