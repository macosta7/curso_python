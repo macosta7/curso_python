{
 "cells": [
  {
   "cell_type": "code",
   "execution_count": 1,
   "id": "ce4e9e24",
   "metadata": {},
   "outputs": [],
   "source": [
    "import numpy as np"
   ]
  },
  {
   "cell_type": "code",
   "execution_count": 2,
   "id": "3031fe40",
   "metadata": {},
   "outputs": [
    {
     "data": {
      "text/plain": [
       "[0, 1, 2, 3, 4, 5, 6, 7, 8]"
      ]
     },
     "execution_count": 2,
     "metadata": {},
     "output_type": "execute_result"
    }
   ],
   "source": [
    "lista = [0,1,2,3,4,5,6,7,8]\n",
    "lista"
   ]
  },
  {
   "cell_type": "code",
   "execution_count": null,
   "id": "bcf80e37",
   "metadata": {},
   "outputs": [
    {
     "data": {
      "text/plain": [
       "{'mean': [[3.0, 4.0, 5.0], [1.0, 4.0, 7.0], 4.0],\n",
       " 'varience': [[6.0, 6.0, 6.0],\n",
       "  [0.6666666666666666, 0.6666666666666666, 0.6666666666666666],\n",
       "  6.666666666666667],\n",
       " 'standard deviation': [[2.449489742783178,\n",
       "   2.449489742783178,\n",
       "   2.449489742783178],\n",
       "  [0.816496580927726, 0.816496580927726, 0.816496580927726],\n",
       "  2.581988897471611],\n",
       " 'max': [[6, 7, 8], [2, 5, 8], 8],\n",
       " 'min': [[0, 1, 2], [0, 3, 6], 0],\n",
       " 'sum': [[9, 12, 15], [3, 12, 21], 36]}"
      ]
     },
     "execution_count": 3,
     "metadata": {},
     "output_type": "execute_result"
    }
   ],
   "source": [
    "def calculate(lista):\n",
    "  if len(lista) != 9:\n",
    "    raise ValueError(\"List must contain nine numbers.\")\n",
    "\n",
    "  matriz = np.array(lista).reshape(3,3)\n",
    "  \n",
    "  mean_axis1 = matriz.mean(axis=0).tolist()\n",
    "  mean_axis2 = matriz.mean(axis=1).tolist() \n",
    "  mean_flat = matriz.mean().tolist()\n",
    "\n",
    "  var_axis1 = matriz.var(axis=0).tolist()\n",
    "  var_axis2 = matriz.var(axis=1).tolist()\n",
    "  var_flat = matriz.var().tolist()\n",
    "\n",
    "  std_axis1 = matriz.std(axis=0).tolist()\n",
    "  std_axis2 = matriz.std(axis=1).tolist()\n",
    "  std_flat = matriz.std().tolist()\n",
    "\n",
    "  max_axis1 = matriz.max(axis=0).tolist()\n",
    "  max_axis2 = matriz.max(axis=1).tolist()\n",
    "  max_flat = matriz.max().tolist()\n",
    "\n",
    "  min_axis1 = matriz.min(axis=0).tolist()\n",
    "  min_axis2 = matriz.min(axis=1).tolist()\n",
    "  min_flat = matriz.min().tolist()\n",
    "\n",
    "  sum_axis1 = matriz.sum(axis=0).tolist()\n",
    "  sum_axis2 = matriz.sum(axis=1).tolist()\n",
    "  sum_flat = matriz.sum().tolist()\n",
    "\n",
    "  results = {\n",
    "      'mean': [mean_axis1, mean_axis2, mean_flat],\n",
    "      'varience': [var_axis1, var_axis2, var_flat],\n",
    "      'standard deviation': [std_axis1, std_axis2, std_flat],\n",
    "      'max': [max_axis1, max_axis2, max_flat],\n",
    "      'min': [min_axis1, min_axis2, min_flat],\n",
    "      'sum': [sum_axis1, sum_axis2, sum_flat]\n",
    "  }\n",
    "\n",
    "  return results\n",
    "\n",
    "# funcao\n",
    "calculate(lista)"
   ]
  }
 ],
 "metadata": {
  "kernelspec": {
   "display_name": "Python 3",
   "language": "python",
   "name": "python3"
  },
  "language_info": {
   "codemirror_mode": {
    "name": "ipython",
    "version": 3
   },
   "file_extension": ".py",
   "mimetype": "text/x-python",
   "name": "python",
   "nbconvert_exporter": "python",
   "pygments_lexer": "ipython3",
   "version": "3.13.5"
  }
 },
 "nbformat": 4,
 "nbformat_minor": 5
}
